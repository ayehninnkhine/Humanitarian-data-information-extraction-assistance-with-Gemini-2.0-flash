{
  "nbformat": 4,
  "nbformat_minor": 0,
  "metadata": {
    "colab": {
      "provenance": []
    },
    "kernelspec": {
      "name": "python3",
      "display_name": "Python 3"
    },
    "language_info": {
      "name": "python"
    }
  },
  "cells": [
    {
      "cell_type": "markdown",
      "source": [
        "This project shows how to use a multimodal Gemini 2.0 flash model to assist structured information extraction task in Humanatarian context.\n",
        "\n",
        "Reference -\n",
        "https://github.com/GoogleCloudPlatform/generative-ai/blob/main/gemini/getting-started/intro_gemini_2_0_flash.ipynb"
      ],
      "metadata": {
        "id": "sEfOyfAufNcs"
      }
    },
    {
      "cell_type": "markdown",
      "source": [
        "**Install Google Gen AI SDK for Python**"
      ],
      "metadata": {
        "id": "JmzmJTpcU-fs"
      }
    },
    {
      "cell_type": "code",
      "execution_count": 31,
      "metadata": {
        "id": "SEAaDhEVUfhx"
      },
      "outputs": [],
      "source": [
        "%pip install --upgrade --quiet google-genai"
      ]
    },
    {
      "cell_type": "markdown",
      "source": [
        "**Authenticate your notebook environment (Colab only)**"
      ],
      "metadata": {
        "id": "U_r-9lWcWaqc"
      }
    },
    {
      "cell_type": "code",
      "source": [
        "import sys\n",
        "\n",
        "if \"google.colab\" in sys.modules:\n",
        "    from google.colab import auth\n",
        "\n",
        "    auth.authenticate_user()"
      ],
      "metadata": {
        "id": "4F_x4I08VD7F"
      },
      "execution_count": 32,
      "outputs": []
    },
    {
      "cell_type": "markdown",
      "source": [
        "**Import Libraries**"
      ],
      "metadata": {
        "id": "H3Lnt2oyWkqE"
      }
    },
    {
      "cell_type": "code",
      "source": [
        "from IPython.display import HTML, Markdown, display\n",
        "from google import genai\n",
        "from google.genai.types import (\n",
        "    FunctionDeclaration,\n",
        "    GenerateContentConfig,\n",
        "    GoogleSearch,\n",
        "    Part,\n",
        "    Retrieval,\n",
        "    SafetySetting,\n",
        "    Tool,\n",
        "    ToolCodeExecution,\n",
        "    VertexAISearch,\n",
        ")"
      ],
      "metadata": {
        "id": "gNtBd2mRVbwS"
      },
      "execution_count": 33,
      "outputs": []
    },
    {
      "cell_type": "markdown",
      "source": [
        "### Set Google Cloud project information and create client\n",
        "\n",
        "To get started using Vertex AI, you must have an existing Google Cloud project and [enable the Vertex AI API](https://console.cloud.google.com/flows/enableapi?apiid=aiplatform.googleapis.com).\n",
        "\n",
        "Learn more about [setting up a project and a development environment](https://cloud.google.com/vertex-ai/docs/start/cloud-environment)."
      ],
      "metadata": {
        "id": "Ip4uZiqJvuRb"
      }
    },
    {
      "cell_type": "code",
      "execution_count": 34,
      "metadata": {
        "id": "UCgUOv4nSWhc"
      },
      "outputs": [],
      "source": [
        "import os\n",
        "\n",
        "PROJECT_ID = \"PROJECT_ID\"  # @param {type: \"string\", placeholder: \"[your-project-id]\", isTemplate: true}\n",
        "if not PROJECT_ID or PROJECT_ID == \"[your-project-id]\":\n",
        "    PROJECT_ID = str(os.environ.get(\"GOOGLE_CLOUD_PROJECT\"))\n",
        "\n",
        "LOCATION = os.environ.get(\"GOOGLE_CLOUD_REGION\", \"us-central1\")"
      ]
    },
    {
      "cell_type": "code",
      "execution_count": 35,
      "metadata": {
        "id": "zpIPG_YhSjaw"
      },
      "outputs": [],
      "source": [
        "client = genai.Client(vertexai=True, project=PROJECT_ID, location=LOCATION)"
      ]
    },
    {
      "cell_type": "code",
      "source": [
        "MODEL_ID = \"gemini-2.0-flash-exp\"  # @param {type: \"string\"}"
      ],
      "metadata": {
        "id": "xTx--srRvRNE"
      },
      "execution_count": 36,
      "outputs": []
    },
    {
      "cell_type": "code",
      "execution_count": 37,
      "metadata": {
        "id": "xRJuHj0KZ8xz",
        "colab": {
          "base_uri": "https://localhost:8080/",
          "height": 46
        },
        "outputId": "caabcef8-70ec-4b94-80b9-ef5c7a303393"
      },
      "outputs": [
        {
          "output_type": "display_data",
          "data": {
            "text/plain": [
              "<IPython.core.display.Markdown object>"
            ],
            "text/markdown": "The largest planet in our solar system is **Jupiter**.\n"
          },
          "metadata": {}
        }
      ],
      "source": [
        "response = client.models.generate_content(\n",
        "    model=MODEL_ID, contents=\"What's the largest planet in our solar system?\"\n",
        ")\n",
        "\n",
        "display(Markdown(response.text))"
      ]
    },
    {
      "cell_type": "markdown",
      "source": [
        "## Set system instructions\n",
        "\n",
        "[System instructions](https://cloud.google.com/vertex-ai/generative-ai/docs/learn/prompts/system-instruction-introduction) allow you to steer the behavior of the model. By setting the system instruction, you are giving the model additional context to understand the task, provide more customized responses, and adhere to guidelines over the user interaction."
      ],
      "metadata": {
        "id": "ncXRGneUfJiW"
      }
    },
    {
      "cell_type": "code",
      "source": [
        "system_instruction = \"\"\"\n",
        "  You are a helpful data analyst in humanatarian field.\n",
        "  Your mission is to extract structured fields event type(Flood, Earthquake, armed conflict, etc) location (Geographical location mentioned in the text), affected population (Number of people impacted), and resource needed (Foold, shelter, medical aid, etc) in JSON format.\n",
        "\"\"\""
      ],
      "metadata": {
        "id": "UU1TLsvfWvsQ"
      },
      "execution_count": 38,
      "outputs": []
    },
    {
      "cell_type": "markdown",
      "source": [
        "**Data Extraction from a gvien text with Gemini 2.0**"
      ],
      "metadata": {
        "id": "svf_Z_m-1sJa"
      }
    },
    {
      "cell_type": "code",
      "source": [
        "prompt = \"\"\"\n",
        "  Text: Myanmar’s military unleashed a series of airstrikes and drone attacks on Buddhist monasteries in eastern Bago Region earlier this week, killing at least one woman and forcing hundreds of villagers to flee, according to resistance sources.\n",
        "\n",
        "The attacks began on Monday and continued into the following day, targeting two villages in Bago’s Nyaunglebin Township, the sources said.\n",
        "\n",
        "Nyaungpingyi, a resistance-held village east of the town of Nyaunglebin, was attacked on both days, while Pyinyae West, a village two miles to the north, was hit on Tuesday, a member of the anti-junta People’s Defence Force (PDF) told Myanmar Now.\n",
        "\n",
        "Both villages are located near Puzunmyaung, a village in the Sittaung River Valley under the control of regime forces.\n",
        "\n",
        "The first attack took place at around noon on Monday, targeting the Aye Myat Aung Monastery in Nyaungpingyi. Several buildings in and around the monastery were destroyed by bombs dropped from planes and drones, as well as by machine-gun fire, the PDF source said.\n",
        "\n",
        "The next day, the Kyaung Thit Monastery in Nyaungpingyi was also bombed by a junta aircraft, according to a statement from the Karen National Union (KNU), which claimed that four civilians were injured during the attack.\n",
        "\n",
        "The only confirmed fatality was reported in Pyinyae West, where a bomb dropped by a drone at around 12:30pm on Tuesday killed a 69-year-old woman living next to the village monastery.\n",
        "\n",
        "The PDF source noted that the attacks coincided with the local bean harvest. “The people here grow beans for their livelihood. That’s why the military did this now,” he said.\n",
        "\n",
        "The aerial assaults came just days after PDF forces based along the Sittaung River launched an attack on a junta outpost in Pazunmyaung, which is just a mile west of Nyaungpingyi.\n",
        "\n",
        "The PDF succeeded in capturing a number of weapons in that battle, which took place on January 23, but withdrew without occupying the outpost. Both sides suffered casualties, sources said.\n",
        "\n",
        "The regime often target schools, hospitals, and monasteries in resistance-held areas, as they are sometimes used by anti-junta fighters as temporary bases. Last Sunday, an attack on a village school in Mandalay Region’s Myingyan Township left 12 resistance fighters and six civilians dead.\n",
        "\n",
        "In a statement released on Thursday, the regime denied that it had carried out airstrikes in Nyaunglebin or in neighbouring Shwegyin Township to the east. It claimed that resistance forces were responsible for any casualties or damage to property in these areas.\n",
        "Shwegyin Township, which is largely under the control of the KNU’s Brigade 3, was among the first places in Myanmar to experience airstrikes in the wake of the February 2021 coup.\n",
        "\"\"\"\n",
        "\n",
        "response = client.models.generate_content(\n",
        "    model=MODEL_ID,\n",
        "    contents=prompt,\n",
        "    config=GenerateContentConfig(\n",
        "        system_instruction=system_instruction,\n",
        "    ),\n",
        ")\n",
        "\n",
        "display(Markdown(response.text))"
      ],
      "metadata": {
        "colab": {
          "base_uri": "https://localhost:8080/",
          "height": 364
        },
        "id": "ArpGy2S91rSg",
        "outputId": "62090e15-985e-4ff2-fa75-2a7077f36231"
      },
      "execution_count": 39,
      "outputs": [
        {
          "output_type": "display_data",
          "data": {
            "text/plain": [
              "<IPython.core.display.Markdown object>"
            ],
            "text/markdown": "```json\n[\n  {\n    \"event_type\": \"Armed conflict\",\n    \"location\": \"Nyaunglebin Township, Bago Region, Myanmar\",\n    \"affected_population\": \"Hundreds of villagers\",\n        \"resource_needed\": \"Shelter\"\n  },\n    {\n    \"event_type\": \"Armed conflict\",\n    \"location\": \"Nyaungpingyi, Bago Region, Myanmar\",\n    \"affected_population\": \"4 civilians injured\",\n        \"resource_needed\": \"Medical Aid\"\n  },\n    {\n    \"event_type\": \"Armed conflict\",\n    \"location\": \"Pyinyae West, Bago Region, Myanmar\",\n       \"affected_population\": \"1 fatality\",\n    \"resource_needed\": \"Medical Aid\"\n  }\n]\n```\n"
          },
          "metadata": {}
        }
      ]
    },
    {
      "cell_type": "markdown",
      "source": [
        "## Control generated output\n",
        "\n",
        "[Controlled generation](https://cloud.google.com/vertex-ai/generative-ai/docs/multimodal/control-generated-output) allows you to define a response schema to specify the structure of a model's output, the field names, and the expected data type for each field.\n",
        "\n",
        "The response schema is specified in the `response_schema` parameter in `config`, and the model output will strictly follow that schema.\n",
        "\n",
        "You can provide the schemas as [Pydantic](https://docs.pydantic.dev/) models or a [JSON](https://www.json.org/json-en.html) string and the model will respond as JSON or an [Enum](https://docs.python.org/3/library/enum.html) depending on the value set in `response_mime_type`.\n"
      ],
      "metadata": {
        "id": "QXC86136v3gg"
      }
    },
    {
      "cell_type": "code",
      "execution_count": 40,
      "metadata": {
        "id": "OjSgf2cDN_bG",
        "colab": {
          "base_uri": "https://localhost:8080/"
        },
        "outputId": "d7f2f832-5298-4497-ca97-8a97aa6bfe07"
      },
      "outputs": [
        {
          "output_type": "stream",
          "name": "stdout",
          "text": [
            "{\n",
            "    \"affected_population\": 500,\n",
            "    \"event_type\": \"armed conflict\",\n",
            "    \"fatality_count\": 1,\n",
            "    \"location\": \"Nyaunglebin Township, Bago Region\",\n",
            "    \"resource_needed\": [\"shelter\", \"medical aid\"]\n",
            "}\n"
          ]
        }
      ],
      "source": [
        "from pydantic import BaseModel\n",
        "\n",
        "\n",
        "class humanitarian_data(BaseModel):\n",
        "    event_type: str\n",
        "    location: str\n",
        "    affected_population: int\n",
        "    fatality_count: int\n",
        "    resource_needed: list[str]\n",
        "\n",
        "\n",
        "response = client.models.generate_content(\n",
        "    model=MODEL_ID,\n",
        "    contents=prompt,\n",
        "    config=GenerateContentConfig(\n",
        "        system_instruction=system_instruction,\n",
        "        response_mime_type=\"application/json\",\n",
        "        response_schema=humanitarian_data,\n",
        "    ),\n",
        ")\n",
        "\n",
        "print(response.text)"
      ]
    },
    {
      "cell_type": "markdown",
      "source": [
        "### Send video from YouTube URL"
      ],
      "metadata": {
        "id": "vzYbWLNb1j7-"
      }
    },
    {
      "cell_type": "code",
      "source": [
        "video = Part.from_uri(\n",
        "    file_uri=\"https://www.youtube.com/watch?v=GBAyRuf8juk\",\n",
        "    mime_type=\"video/mp4\",\n",
        ")\n",
        "video_prompt = \"Extract data for humanatarian support\"\n",
        "response = client.models.generate_content(\n",
        "    model=MODEL_ID,\n",
        "    contents=[\n",
        "        video, video_prompt\n",
        "    ],\n",
        "    config=GenerateContentConfig(\n",
        "    system_instruction=system_instruction,\n",
        "    response_mime_type=\"application/json\",\n",
        "    response_schema=humanitarian_data,\n",
        "    ),\n",
        ")\n",
        "\n",
        "display(Markdown(response.text))"
      ],
      "metadata": {
        "colab": {
          "base_uri": "https://localhost:8080/",
          "height": 64
        },
        "id": "EFA18ZDj1AOD",
        "outputId": "810c04e5-9866-4a49-af20-b98950401223"
      },
      "execution_count": 46,
      "outputs": [
        {
          "output_type": "display_data",
          "data": {
            "text/plain": [
              "<IPython.core.display.Markdown object>"
            ],
            "text/markdown": "{\n  \"affected_population\":  400,\n  \"event_type\": \"Armed conflict\",\n  \"fatality_count\":  0,\n  \"location\": \"Ayeyarwady Region, Pathein Township, Bomie Village\",\n  \"resource_needed\": [\"Shelter\", \"Food\", \"Medical aid\"]\n}"
          },
          "metadata": {}
        }
      ]
    },
    {
      "cell_type": "markdown",
      "source": [
        "**Structured Information Extraction on Burmese language news**\n",
        "\n",
        "You can use burmese language news as input to extract the structured data"
      ],
      "metadata": {
        "id": "kdB7cOuq78Tz"
      }
    },
    {
      "cell_type": "code",
      "source": [
        "burmese_prompt = \"\"\"\n",
        "  Text: တောင်တရုတ်ပင်လယ်နှင့် ဘင်္ဂလားပင်လယ်အော်မှ မုန်တိုင်းမိုးကြောင့် ရေကြီးမြေပြိုမှု ဖြစ်ခဲ့သော မန္တလေးတိုင်း ရမည်း သင်းမြို့နယ်၌ ယခုအခါ ရေပြန်ကျပြီဖြစ်၍ ကယ်ဆယ်ရေးလုပ်ငန်းများ လုပ်ဆောင်ခဲ့ရာ အလောင်း ၄၀ကျော် တွေ့ ထားပြီး လူ၁၀၀ကျော် ပျောက်နေကြောင်း ဒေသခံများနှင့် လူမှုကူညီ ရေးအသင်းများထံက သိရသည်။\n",
        "စက်တင်ဘာ ၁၁ရက် ၁၂ရက်က အဆက်မပြတ်ရွာသည့် မိုးကြောင့် နာမည်ကျော် မိုးထိမိုးမိ ရွှေလုပ်ကွက်များရှိရာ ရမည်းသင်း အရှေ့ခြမ်း တောင်ပေါ်ရွာများဖြစ်သည့် ငါးတဲစု၊ ဝါးဖြူတောင် အထက်/အောက်၊ သပြေပင်၊ အရှေ့ပင်၊ ချောင်းဖျား၊ ရွှေတောမိုင်းအပါအဝင် ကျေးရွာ ၈ ရွာခန့်ရေကြီးနစ်မြုပ်ခဲ့ကာ တောင်ကျချောင်းရေ တိုက်စားမှုကြောင့် မြေပြိုမှုများလည်း ဖြစ်ပေါ်ခဲ့ခြင်း ဖြစ်သည်။\n",
        "ရမည်းသင်းမြို့ လူမှုကူညီရေးအသင်းတခုမှ တာဝန်ရှိသူတဦးက “လက်ရှိ Dead Body က သယ်ထားတာက ၃၀ လောက်ပဲ ရသေးတယ်၊ အချို့ အလောင်းတွေက သယ်လို့မရတော့ အနီးနားက ရွာတွေမှာပဲ သဂြိုလ်လိုက်ကြတာမျိုး တွေလည်း ရှိ တယ်၊ မြင်းနားဘက်မှာဆိုရင် ရွာခံတွေ မြေမြုပ်ပေးလိုက်တာကို ၁၅ လောင်းကျော်ထိရှိတယ်၊ ရွာတွေက တောင်ပေါ်ဖြစ်တဲ့ အတွက်ကြောင့် မိုးအရမ်းများ ရေကြီးပြီး မြေပြိုတော့ လူတွေ အထိ အခိုက်သေဆုံးမှု တော်တော်များများ ရှိပါတယ်၊ ကျနော်တို့ဆီမှာ ရွာတွေကနေ ပေးထားတဲ့ ပျောက်ဆုံးစာရင်းက ၁၀၀ ကျော်လောက်ရှိတယ်”ဟု ပြောသည်။\n",
        "လူသေဆုံးမှုနှင့် ပျက်စီးဆုံးရှုံးမှု အများဆုံးရွာမှာ သပြေပင်ကျေးရွာဖြစ်ပြီး နေအိမ်များ ရေစီးဖြင့် မျောပါသွားသလို မြေအောက်၌ နစ်မြုပ်သွားသောနေအိမ်များလည်း ရှိကြောင်း၊ အိမ်ခြေ ၃၅၀ ကျော်တွင် အမြင့်ပိုင်းမှ အိမ်ခြေ ၄၀ ကျော် သာ ကျန်ရှိတော့သလို ဒေသခံ ၈၀ ကျော် ပျောက်ဆုံးခဲ့သည့်အနက် ရုပ်အလောင်း ၃၀ ခန့် တွေ့ရှိထားပြီး ကျန်သူများမှာ ပျောက်ဆုံးနေဆဲဖြစ်ကြောင်း၊ ချောင်းဖျားကျေးရွာတွင်လည်း ရေကြီးရေလျှံမှုများ ဖြစ်ပေါ်ခဲ့ပြီး ပျောက်ဆုံးနေသူများလည်း ရှိကာ ဆက်လက် ရှာဖွေနေကြဆဲဟု သိရသည်။\n",
        "ရမည်းသင်းမြို့ခံ လူမှုကူညီရေး အသင်းတခုမှ တာဝန်ရှိသူတဦးက “သပြေပင်ကျေးရွာရယ် ချောင်းဖျားရယ်ကတော့ တော်တော်ဆိုးဆိုးရွားရွားပဲ၊ ထိခိုက်ပျက်စီးမှုအများဆုံးနဲ့ ရွာရဲ့ ၃ ပုံ ၂ ပုံလောက်ကို ပါသွားတာ၊ သူက မြေပြိုပြီးပါသွားတာ၊ ချောင်းဘေးနားမှာ ရွာလေးတွေ တည်ပြီးနေကြတာ၊ ရွှေတောကို သွားတဲ့ လမ်းပေါ်မှာပေါ့၊ ရမည်းသင်းအရှေ့ဘက် ရွှေလုပ် ကွက်တွေရှိတဲ့ မိုးထိမိုးမိဘက်ပေါ့၊ ပြီးတော့ ငါးတပ်စုတို့ ဝါးဖြူတောင်တို့ ဘက်မှာလည်း ထိခိုက်ပျက်စီးမှုတွေ ရှိတယ်၊ အခုလက်ရှိ လမ်းပန်းဆက်သွယ်ရေးကလည်း တော်တော်လေးခက်ခဲနေတယ်၊ အဲဒီဘက်ကို သွားဖို့က မြေပြိုထားတာဆိုတော့ သွားလို့လာလို့က မလွယ်သေးဘူး”ဟု ပြောသည်။\n",
        "အဆိုပါရွာများမှာ ရမည်းသင်းမြို့နယ်အတွင်း ဖြတ်သန်းစီးဆင်းသွားသည့် ပေါင်းလောင်းမြစ်ဘေးကျေးရွာများ ဖြစ်ကာ စက်တင်ဘာ ၁၁ ရက်က စတင်ပြီး မိုးသည်းထန်စွာ ရွာသွန်းသဖြင့် ရေဝင်ရောက်မှုဖြစ်ခဲ့ကာ ၁၂ ရက်တွင် ရေ ပြန်ကျသွား ကြောင်း၊ လက်ရှိအချိန်အထိ ယင်းကျေးရွာများသို့ စစ်ကောင်စီ၏ ကယ်ဆယ်ရေး ရောက်ရှိလာခြင်းမရှိဘဲ အသက်ရှင် ကျန်ရစ်သူများမှာလည်း စားဝတ်နေရေး ၊ အမိုးအကာနှင့် ကျန်းမာရေး ဒုက္ခများကြုံတွေ့နေရကြောင်း သိရသည်။\n",
        "\n",
        "ဒေသခံတဦးက “တချို့နေရာတွေတော့ ရေပြန်ကျနေပါပြီ၊ ချောင်းဘေးနဲ့ တောင်ကျရေ နီးတဲ့ရွာတွေ ပိုပြီး ဒုက္ခများကြ တာပါ၊ ပြီးတော့ ကျီးနီကန်မကြီးကနေ ရေလွှတ်တာရယ် မိုးများပြီး တောင်ကျရေတွေကြောင့် မြေပြိုတာမျိုးတွေထိ ဖြစ်ခဲ့ တာမျိုးတွေပေါ့၊ လူတွေ ထိခိုက်သေဆုံးတာက မြေပြိုတာကြောင့်ပေါ့၊ အချို့ရွာတွေဆိုရင် အိမ်တွေ ပိုင်ဆိုင်မှုတွေ အားလုံး မြေအောက်ရောက်သွားကြတယ်၊ အတော်စိတ်မကောင်းစရာ ဖြစ်ရပ်တွေပါပဲ၊ ဒီနေ့အထိတော့ ပြည်သူအချင်းချင်း ကူညီ တာကလွဲပြီး တာဝန်ရှိသူတွေ တယောက်မှ ရောက်မလာသေးဘူး”ဟု ပြောသည်။\n",
        "\n",
        "စစ်ကောင်စီဝါဒဖြန့်တယ်လီဂရမ်ချန်နယ်များတွင်မူ ရမည်းသင်းမြို့နယ်အတွင်း မိုးသည်းထန်စွာရွာသွန်းမှုကြောင့် မိုးထိမိုးမိ ရွှေလုပ်ကွက်များတွင် မြေပြိုကျသဖြင့် အလုပ်သမား အများအပြား ပျောက်ဆုံးနေပြီး သပြေပင်ရွာ အပါအဝင်အများအပြား မြေအောက်သို့ ရောက်သွားကာ သေဆုံးသူ ရာချီနှင့်အတူ လူ ၇၀၀ ခန့် ပျောက်ဆုံးနေကြောင်း၊ ရွှေမြင်တင် တောင်ပေါ်မှ တန်ခိုးကြီးဘုရားတဆူဖြစ်သော ရွှေမြင်တင် ဘုရားလည်း ပြိုကျသွားပြီး ထိခိုက်သေဆုံးမှုများ သည်ဟု ရေးသားဖြန့်ဝေထားကြသည်။\n",
        "\n",
        "“၇၀၀ ကျော်လောက် ပျောက်နေတယ်ဆိုတာမျိုးတော့ မဟုတ်ပါဘူး၊ ၁၀၀ ကျော်လောက် ပျောက်ဆုံးတယ်ဆိုတာက အမှန်ပါ၊ ပြည်သူတွေအနေနဲ့ အရမ်းကြီး မစိုးရိမ်ကြပါနဲ့ ကျနော်တို့လည်း ရှာဖွေ ကယ်ဆယ်ရေးတွေ လုပ်နေပါတယ်ဗျ၊ တချို့ရွာတွေမှာတော့ ၃၀ ကျော်ကနေ ၅၀ ကျော်လောက်ထိ ပျောက်ဆုံးနေတာမျိုးတွေ ရှိတယ်ဆိုတော့ အများဆုံး ၁၀၀ ကျော်တော့ ရှိနိုင်ပါတယ်”ဟု ရမည်းသင်းမြို့ခံ လူမှုကူညီရေးအသင်းတခုမှ တာဝန်ရှိသူတဦးက ပြောသည်။\n",
        "သပြေပင်ကျေးရွာမှ ဒေသခံများမှာ ကုန်းအမြင့် ပိုင်း၌ တိမ်းရှောင်နိုင်ခဲ့ကြသလို ပျောက်ဆုံးနေသူ ၈၀ ခန့်သာရှိကြောင်း၊ ကျန်ရစ်သော ဒေသခံများအနေဖြင့် လမ်းပန်း ဆက်သွယ်ရေးလွယ်ကူစေရန်အတွက် ရှင်းလင်းရေးလုပ်ငန်းများ စတင် လုပ်ကိုင်လျက်ရှိပြီး ယနေ့ နံနက်ပိုင်းတွင် ကျေးရွာအချို့သို့ ကယ်ဆယ်ရေးများ စတင်ဝင်ရောက်နိုင်ပြီဖြစ်ကြောင်း သိရသည်။\n",
        "\n",
        "“ရွာက အိမ်တွေကတော့ ရေကြီးတည်းက အကုန်မျောပါသွားတာ မှန်ပါတယ်၊ လူတွေကတော့ ကုန်းအမြင့်တွေပေါ်မှာ ရှောင် နိုင်ခဲ့ကြပါတယ်၊ လက်ရှိရေကတော့ ကျသွားပါပြီ၊ ရေစီးနဲ့ ပါသွားတဲ့သူတွေကတော့ အခုထိ ရှင်လားသေလား မသိရသေးပါဘူး ရှာနေကြတုန်းပါ၊ မသိဘဲ ကောလဟာလတွေ မဖြန့်ပါနဲ့ဗျ”ဟု သပြေပင်ရွာသို့ အကူအညီများ သွားရောက်ပေးခဲ့သူတဦးက ပြောသည်။\n",
        "\n",
        "ရမည်းသင်းမြို့နယ်တွင် ရေကြီးနစ်မြုပ် မြေပြိုမှုကြောင့် သေဆုံးသူ ၁၇ ဦး၏ ရုပ်အလောင်းများ တွေ့ရှိထားကြောင်း စက်တင်ဘာ ၁၂ ရက်နေ့တွင် စစ်ကောင်စီလက်အောက်ခံ မီးသတ်ဦးစီးဌာနမှ အသိပေးထုတ်ပြန်ထားသည်။\n",
        "\n",
        "ရမည်းသင်းမြို့ပေါ်ရှိ လူမှုကူညီရေးအသင်းများအနေဖြင့် ရေဘေးကယ်ဆယ်ရေးအတွက် ကြိုတင်ပြင်ဆင်မှုများ ပြုလုပ် ထားသော်လည်း ကယ်ဆယ်ရေးလုပ်ငန်း အတွေ့အကြုံနည်းပါးမှုကြောင့် အခက်အခဲများလည်း ဖြစ်ပေါ်ခဲ့ရကြောင်း၊ မြို့ခံများနှင့် လူမှုကူညီရေးအသင်းများ ပူးပေါင်းဆောင်ရွက်မှုများ ရှိသော်လည်း အသက်ကယ်အင်္ကျီ၊ဘောကွင်းစသည့် ကယ်ဆယ်ရေးသုံး အထောက်အကူ ပစ္စည်းများ လုံလောက်မှု မရှိသလို အသက်ကယ်လှေ ၂ စီးခန့်သာ ရှိကြောင်း၊ ယခုအခါ ရှာဖွေကယ်ဆယ်ရေးလုပ်ငန်းများကို မြို့နယ်မီးသတ်ဦးစီးဌာန၏ ဦးဆောင်လမ်းညွှန်မှုဖြင့် မြို့ခံပရဟိတအသင်းများက ပူး ပေါင်းဆောင်ရွက်နေကြောင်း သိရသည်။\n",
        "\n",
        "ရမည်းသင်းမြို့နယ်တွင် မြို့ပေါ်ရပ်ကွက် ၅ ခု၊ ကျေးရွာအုပ်စုပေါင်း ၆၃ အုပ်စု၊ ကျေးရွာပေါင်း ၂၄၇ ရွာ၊ လူဦးရေ ၂၅၈၀၉၁ ဦး ထိရှိပြီး အရှေ့ဘက်တွင် ရှမ်းပြည်နယ်ရှိ ပင်လောင်းမြို့နယ်၊ ကလောမြို့နယ်၊ တောင်ဘက်တွင် တပ်ကုန်းမြို့နယ်၊ အနောက်ဘက်တွင် မကွေးတိုင်းရှိ နတ်မောက်၊ မြို့သစ်မြို့နယ်၊ မြောက်ဘက်တွင် ပျော်ဘွယ်မြို့နယ်များ တည်ရှိသည်။\n",
        "\n",
        "မြန်မာနိုင်ငံတွင် မုန်တိုင်းဒဏ်ကြောင့် မြို့နယ် ၃၄ ခုတွင် ရေကြီးရေလျှံမှုများ ဖြစ်ပွားခဲ့ပြီး လူဦးရေ ၂၃၆,၆၄၉ ဦးထိ ရေဘေးဒဏ်ခံစားခဲ့ရကာ ကူညီကယ်ဆယ်ရေးစခန်း ၁၈၇ ခုထိ ဖွင့်လှစ်ပေးထားကြောင်း၊ ရေကြီးနစ်မြုပ်မှုကြောင့် သေဆုံးသူ ၃၃ ဦးထိရှိသည် စစ်ကောင်စီ သတင်းမှန်ပြန်ကြားရေးအဖွဲ့က ထုတ်ပြန်ထားသည်။\n",
        "\"\"\""
      ],
      "metadata": {
        "id": "O4ylr5Tp45Ng"
      },
      "execution_count": 42,
      "outputs": []
    },
    {
      "cell_type": "code",
      "source": [
        "response = client.models.generate_content(\n",
        "    model=MODEL_ID,\n",
        "    contents=burmese_prompt,\n",
        "    config=GenerateContentConfig(\n",
        "        system_instruction=system_instruction,\n",
        "        response_mime_type=\"application/json\",\n",
        "        response_schema=humanitarian_data,\n",
        "    ),\n",
        ")\n"
      ],
      "metadata": {
        "id": "0MXHMc0S6t2R"
      },
      "execution_count": 43,
      "outputs": []
    },
    {
      "cell_type": "code",
      "source": [
        "display(Markdown(response.text))"
      ],
      "metadata": {
        "colab": {
          "base_uri": "https://localhost:8080/",
          "height": 64
        },
        "id": "gYdwvelL65Il",
        "outputId": "be98a6ec-7062-4731-ddb7-2fc244106533"
      },
      "execution_count": 44,
      "outputs": [
        {
          "output_type": "display_data",
          "data": {
            "text/plain": [
              "<IPython.core.display.Markdown object>"
            ],
            "text/markdown": "{\n  \"affected_population\": 258091,\n  \"event_type\": \"Flood and Landslide\",\n  \"fatality_count\": 40,\n  \"location\": \"Yamethin Township, Mandalay Region\",\n  \"resource_needed\": [\n    \"Food\",\n     \"Shelter\",\n    \"Medical aid\",\n     \"Rescue equipment\"\n  ]\n}"
          },
          "metadata": {}
        }
      ]
    }
  ]
}
